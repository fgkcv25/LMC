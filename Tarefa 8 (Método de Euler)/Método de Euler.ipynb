{
 "cells": [
  {
   "cell_type": "markdown",
   "metadata": {},
   "source": [
    "### Vamos aproximar aqui a solução para a equação diferencial $y′(x)=y(x)$, $y(0)=1$ utilizando o método de Euler!"
   ]
  },
  {
   "cell_type": "markdown",
   "metadata": {},
   "source": [
    "Para isto, lembre-se que que $y'(x) = \\lim_{h\\to 0} \\frac{y(x+h)-y(x)}{h}$. Assim, para um h suficientemente pequeno, podemos dizer que $hy'(x) \\approx y(x+h) - y(x)$. Agora, como queremos resolver a equação $y′(x)=y(x)$, teremos que $hy(x) \\approx y(x+h) - y(x)$, ou, $y(x+h) \\approx y(x)(h+1)$, onde $y(0)=1$."
   ]
  },
  {
   "cell_type": "markdown",
   "metadata": {},
   "source": [
    "Discretizaremos então o intervalo de $0$ a $1$ em $1/h$ pontos, digamos para $h = 0.01$."
   ]
  },
  {
   "cell_type": "code",
   "execution_count": 3,
   "metadata": {},
   "outputs": [],
   "source": [
    "h = 0.01"
   ]
  },
  {
   "cell_type": "code",
   "execution_count": 23,
   "metadata": {
    "scrolled": true
   },
   "outputs": [
    {
     "name": "stdout",
     "output_type": "stream",
     "text": [
      "[0.   0.01 0.02 0.03 0.04 0.05 0.06 0.07 0.08 0.09 0.1  0.11 0.12 0.13\n",
      " 0.14 0.15 0.16 0.17 0.18 0.19 0.2  0.21 0.22 0.23 0.24 0.25 0.26 0.27\n",
      " 0.28 0.29 0.3  0.31 0.32 0.33 0.34 0.35 0.36 0.37 0.38 0.39 0.4  0.41\n",
      " 0.42 0.43 0.44 0.45 0.46 0.47 0.48 0.49 0.5  0.51 0.52 0.53 0.54 0.55\n",
      " 0.56 0.57 0.58 0.59 0.6  0.61 0.62 0.63 0.64 0.65 0.66 0.67 0.68 0.69\n",
      " 0.7  0.71 0.72 0.73 0.74 0.75 0.76 0.77 0.78 0.79 0.8  0.81 0.82 0.83\n",
      " 0.84 0.85 0.86 0.87 0.88 0.89 0.9  0.91 0.92 0.93 0.94 0.95 0.96 0.97\n",
      " 0.98 0.99 1.  ]\n"
     ]
    }
   ],
   "source": [
    "import numpy as np\n",
    "intervalo = np.arange(0,1+h,h)\n",
    "print(intervalo)"
   ]
  },
  {
   "cell_type": "markdown",
   "metadata": {},
   "source": [
    "Note que sabemos $y(0)$ e portanto, utilizando a fórmula anterior, também sabemos $y(0+h)$, e ao repetir o processo, podemos encontrar o valor de $y$ em cada ponto do intervalo. Criemos então um array contendo tais valores."
   ]
  },
  {
   "cell_type": "code",
   "execution_count": 22,
   "metadata": {},
   "outputs": [
    {
     "name": "stdout",
     "output_type": "stream",
     "text": [
      "[1.         1.01       1.0201     1.030301   1.04060401 1.05101005\n",
      " 1.06152015 1.07213535 1.08285671 1.09368527 1.10462213 1.11566835\n",
      " 1.12682503 1.13809328 1.14947421 1.16096896 1.17257864 1.18430443\n",
      " 1.19614748 1.20810895 1.22019004 1.23239194 1.24471586 1.25716302\n",
      " 1.26973465 1.282432   1.29525631 1.30820888 1.32129097 1.33450388\n",
      " 1.34784892 1.3613274  1.37494068 1.38869009 1.40257699 1.41660276\n",
      " 1.43076878 1.44507647 1.45952724 1.47412251 1.48886373 1.50375237\n",
      " 1.51878989 1.53397779 1.54931757 1.56481075 1.58045885 1.59626344\n",
      " 1.61222608 1.62834834 1.64463182 1.66107814 1.67768892 1.69446581\n",
      " 1.71141047 1.72852457 1.74580982 1.76326792 1.7809006  1.7987096\n",
      " 1.8166967  1.83486367 1.8532123  1.87174443 1.89046187 1.90936649\n",
      " 1.92846015 1.94774475 1.9672222  1.98689442 2.00676337 2.026831\n",
      " 2.04709931 2.06757031 2.08824601 2.10912847 2.13021975 2.15152195\n",
      " 2.17303717 2.19476754 2.21671522 2.23888237 2.26127119 2.2838839\n",
      " 2.30672274 2.32978997 2.35308787 2.37661875 2.40038494 2.42438879\n",
      " 2.44863267 2.473119   2.49785019 2.52282869 2.54805698 2.57353755\n",
      " 2.59927293 2.62526565 2.65151831 2.67803349 2.70481383]\n"
     ]
    }
   ],
   "source": [
    "yintervalo = np.zeros(intervalo.size)\n",
    "yintervalo[0] = 1\n",
    "for i in range(intervalo.size-1):\n",
    "    yintervalo[i+1] = yintervalo[i]*(h+1)\n",
    "print(yintervalo)"
   ]
  },
  {
   "cell_type": "markdown",
   "metadata": {},
   "source": [
    "Assim, podemos criar o gráfico destes pontos!"
   ]
  },
  {
   "cell_type": "code",
   "execution_count": 34,
   "metadata": {},
   "outputs": [
    {
     "data": {
      "text/plain": [
       "Text(0, 0.5, 'y(x)')"
      ]
     },
     "execution_count": 34,
     "metadata": {},
     "output_type": "execute_result"
    },
    {
     "data": {
      "image/png": "[encoded data removed]",
      "text/plain": [
       "<Figure size 432x288 with 1 Axes>"
      ]
     },
     "metadata": {
      "needs_background": "light"
     },
     "output_type": "display_data"
    }
   ],
   "source": [
    "import matplotlib.pyplot as plt\n",
    "plt.plot(intervalo,yintervalo,'rp')\n",
    "plt.xlabel('x')\n",
    "plt.ylabel('y(x)')"
   ]
  },
  {
   "cell_type": "markdown",
   "metadata": {},
   "source": [
    "Podemos comparar esta solução aproximada com a solução exata da EDO, $y=e^x$."
   ]
  },
  {
   "cell_type": "code",
   "execution_count": 56,
   "metadata": {},
   "outputs": [
    {
     "data": {
      "text/plain": [
       "Text(0, 0.5, 'y(x)')"
      ]
     },
     "execution_count": 56,
     "metadata": {},
     "output_type": "execute_result"
    },
    {
     "data": {
      "image/png": "[encoded data removed]",
      "text/plain": [
       "<Figure size 432x288 with 1 Axes>"
      ]
     },
     "metadata": {
      "needs_background": "light"
     },
     "output_type": "display_data"
    }
   ],
   "source": [
    "import math\n",
    "yexatointervalo = np.zeros(intervalo.size)\n",
    "for i in range(intervalo.size):\n",
    "    yexatointervalo[i] = math.exp(intervalo[i])\n",
    "\n",
    "plt.plot(intervalo,yintervalo,'rp')\n",
    "plt.plot(intervalo,yexatointervalo,linewidth=4)\n",
    "plt.xlabel('x')\n",
    "plt.ylabel('y(x)')"
   ]
  }
 ],
 "metadata": {
  "kernelspec": {
   "display_name": "Python 3",
   "language": "python",
   "name": "python3"
  },
  "language_info": {
   "codemirror_mode": {
    "name": "ipython",
    "version": 3
   },
   "file_extension": ".py",
   "mimetype": "text/x-python",
   "name": "python",
   "nbconvert_exporter": "python",
   "pygments_lexer": "ipython3",
   "version": "3.7.1"
  }
 },
 "nbformat": 4,
 "nbformat_minor": 2
}
